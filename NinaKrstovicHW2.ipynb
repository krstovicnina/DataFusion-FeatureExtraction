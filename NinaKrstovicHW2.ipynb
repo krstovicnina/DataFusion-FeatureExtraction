{
  "nbformat": 4,
  "nbformat_minor": 0,
  "metadata": {
    "colab": {
      "name": "NinaKrstovicHW2.ipynb",
      "provenance": [],
      "collapsed_sections": []
    },
    "kernelspec": {
      "name": "python3",
      "display_name": "Python 3"
    },
    "language_info": {
      "name": "python"
    }
  },
  "cells": [
    {
      "cell_type": "code",
      "metadata": {
        "id": "HpaJIpR1fYb8"
      },
      "source": [
        "# 1) Which of the following are possible formulas for a growth function mH(N):\n",
        "#   •  (a)1 +N\n",
        "#   •  (b)1 +N(N2)\n",
        "#   •  (c)∑√dN/2ei=1(N2)\n",
        "#   •  (d)2dN/2e\n",
        "#   •  (e)2N\n",
        "\n",
        "# answer: a, e"
      ],
      "execution_count": 30,
      "outputs": []
    },
    {
      "cell_type": "code",
      "metadata": {
        "id": "cBg3JbzWgaMZ"
      },
      "source": [
        "# 2) In the Teams space (Channel – General – Class Materials) for this class (EN - SDE - 4) thereare  three  new  text  files: featurestrain.txt and featurestest.txtcontainingMNIST handwritten digit data.\n",
        "#  Each file has three columns:  digit label, feature one – inten-sity, and feature two – symmetry.\n",
        "  \n",
        "#  (a) Read in the files and do the following:\n",
        "#        •  Plot  the  histograms  of  the  first  column  to  show  the  distribution  of  labels  (digits)  forthe  training  and  test  data.   \n",
        "#           The  histograms  should  match  the  numbers  as  given  in  theMNISTinfo.txt file.\n",
        "#        •  Plot the histograms of the distributions of intensity and symmetry for both test and train-ing sets.\n",
        "#        •  Create a new training set by changing all labels for all digits different from 5 into -1, andthen change the labels for five into 1.\n",
        "\n",
        "#  (b) Using the training data set, train the pocket version of your perceptron function from thefirst homework. \n",
        "#      Run the pocket PLA for 10,000 iterations and then use the resulting best PLAclassifier/line to classify the test data in two groups.\n",
        "\n",
        "#  (c) Compute the confusion matrix for your classification results and comment on the perfor-mance of the machine learning algorithm."
      ],
      "execution_count": 31,
      "outputs": []
    },
    {
      "cell_type": "code",
      "metadata": {
        "id": "jhg44IUGh4nE"
      },
      "source": [
        "import matplotlib.pyplot as plt\n",
        "import pandas as pd\n",
        "import numpy as np\n",
        "import math\n",
        "import seaborn as sns\n",
        "from sklearn.linear_model import Perceptron\n",
        "from sklearn import metrics\n",
        "from sklearn.metrics import confusion_matrix"
      ],
      "execution_count": 32,
      "outputs": []
    },
    {
      "cell_type": "code",
      "metadata": {
        "colab": {
          "base_uri": "https://localhost:8080/",
          "height": 419
        },
        "id": "209xXPbahLoO",
        "outputId": "17124c69-d926-4393-8218-39fcae7dce49"
      },
      "source": [
        "test = pd.read_csv(\"features.test.csv\")\n",
        "train = pd.read_csv(\"features.train.csv\")\n",
        "\n",
        "train"
      ],
      "execution_count": 33,
      "outputs": [
        {
          "output_type": "execute_result",
          "data": {
            "text/html": [
              "<div>\n",
              "<style scoped>\n",
              "    .dataframe tbody tr th:only-of-type {\n",
              "        vertical-align: middle;\n",
              "    }\n",
              "\n",
              "    .dataframe tbody tr th {\n",
              "        vertical-align: top;\n",
              "    }\n",
              "\n",
              "    .dataframe thead th {\n",
              "        text-align: right;\n",
              "    }\n",
              "</style>\n",
              "<table border=\"1\" class=\"dataframe\">\n",
              "  <thead>\n",
              "    <tr style=\"text-align: right;\">\n",
              "      <th></th>\n",
              "      <th>DigitLabel</th>\n",
              "      <th>Intensity</th>\n",
              "      <th>Symmetry</th>\n",
              "    </tr>\n",
              "  </thead>\n",
              "  <tbody>\n",
              "    <tr>\n",
              "      <th>0</th>\n",
              "      <td>6.0</td>\n",
              "      <td>0.34</td>\n",
              "      <td>-4.53</td>\n",
              "    </tr>\n",
              "    <tr>\n",
              "      <th>1</th>\n",
              "      <td>5.0</td>\n",
              "      <td>0.44</td>\n",
              "      <td>-5.50</td>\n",
              "    </tr>\n",
              "    <tr>\n",
              "      <th>2</th>\n",
              "      <td>4.0</td>\n",
              "      <td>0.23</td>\n",
              "      <td>-2.89</td>\n",
              "    </tr>\n",
              "    <tr>\n",
              "      <th>3</th>\n",
              "      <td>7.0</td>\n",
              "      <td>0.20</td>\n",
              "      <td>-3.53</td>\n",
              "    </tr>\n",
              "    <tr>\n",
              "      <th>4</th>\n",
              "      <td>3.0</td>\n",
              "      <td>0.29</td>\n",
              "      <td>-4.35</td>\n",
              "    </tr>\n",
              "    <tr>\n",
              "      <th>...</th>\n",
              "      <td>...</td>\n",
              "      <td>...</td>\n",
              "      <td>...</td>\n",
              "    </tr>\n",
              "    <tr>\n",
              "      <th>7286</th>\n",
              "      <td>3.0</td>\n",
              "      <td>0.30</td>\n",
              "      <td>-2.56</td>\n",
              "    </tr>\n",
              "    <tr>\n",
              "      <th>7287</th>\n",
              "      <td>3.0</td>\n",
              "      <td>0.25</td>\n",
              "      <td>-3.11</td>\n",
              "    </tr>\n",
              "    <tr>\n",
              "      <th>7288</th>\n",
              "      <td>3.0</td>\n",
              "      <td>0.39</td>\n",
              "      <td>-2.92</td>\n",
              "    </tr>\n",
              "    <tr>\n",
              "      <th>7289</th>\n",
              "      <td>0.0</td>\n",
              "      <td>0.60</td>\n",
              "      <td>-2.26</td>\n",
              "    </tr>\n",
              "    <tr>\n",
              "      <th>7290</th>\n",
              "      <td>1.0</td>\n",
              "      <td>0.28</td>\n",
              "      <td>-0.92</td>\n",
              "    </tr>\n",
              "  </tbody>\n",
              "</table>\n",
              "<p>7291 rows × 3 columns</p>\n",
              "</div>"
            ],
            "text/plain": [
              "      DigitLabel  Intensity  Symmetry\n",
              "0            6.0       0.34     -4.53\n",
              "1            5.0       0.44     -5.50\n",
              "2            4.0       0.23     -2.89\n",
              "3            7.0       0.20     -3.53\n",
              "4            3.0       0.29     -4.35\n",
              "...          ...        ...       ...\n",
              "7286         3.0       0.30     -2.56\n",
              "7287         3.0       0.25     -3.11\n",
              "7288         3.0       0.39     -2.92\n",
              "7289         0.0       0.60     -2.26\n",
              "7290         1.0       0.28     -0.92\n",
              "\n",
              "[7291 rows x 3 columns]"
            ]
          },
          "metadata": {},
          "execution_count": 33
        }
      ]
    },
    {
      "cell_type": "code",
      "metadata": {
        "colab": {
          "base_uri": "https://localhost:8080/",
          "height": 282
        },
        "id": "FA-wvlyUotf6",
        "outputId": "69e81a03-c5ae-4791-f352-634b8624edae"
      },
      "source": [
        "# a) \n",
        "labelstrain = train['DigitLabel']\n",
        "labelstest = test['DigitLabel']\n",
        "\n",
        "labelstrain.hist()"
      ],
      "execution_count": 34,
      "outputs": [
        {
          "output_type": "execute_result",
          "data": {
            "text/plain": [
              "<matplotlib.axes._subplots.AxesSubplot at 0x7f2ca0d9f090>"
            ]
          },
          "metadata": {},
          "execution_count": 34
        },
        {
          "output_type": "display_data",
          "data": {
            "image/png": "[encoded data removed]",
            "text/plain": [
              "<Figure size 432x288 with 1 Axes>"
            ]
          },
          "metadata": {
            "needs_background": "light"
          }
        }
      ]
    },
    {
      "cell_type": "code",
      "metadata": {
        "colab": {
          "base_uri": "https://localhost:8080/",
          "height": 282
        },
        "id": "de61DWv6pDdG",
        "outputId": "14ad5be7-2d69-4974-ff77-90098d0e912a"
      },
      "source": [
        "labelstest.hist()"
      ],
      "execution_count": 35,
      "outputs": [
        {
          "output_type": "execute_result",
          "data": {
            "text/plain": [
              "<matplotlib.axes._subplots.AxesSubplot at 0x7f2ca0d15190>"
            ]
          },
          "metadata": {},
          "execution_count": 35
        },
        {
          "output_type": "display_data",
          "data": {
            "image/png": "[encoded data removed]",
            "text/plain": [
              "<Figure size 432x288 with 1 Axes>"
            ]
          },
          "metadata": {
            "needs_background": "light"
          }
        }
      ]
    },
    {
      "cell_type": "code",
      "metadata": {
        "colab": {
          "base_uri": "https://localhost:8080/",
          "height": 282
        },
        "id": "lZgHMk_8pRRy",
        "outputId": "78815e93-3af3-4b25-ea52-070a28ca65f6"
      },
      "source": [
        "intensitytrain = train['Intensity']\n",
        "intensitytest = test['Intensity']\n",
        "\n",
        "intensitytrain.hist()"
      ],
      "execution_count": 36,
      "outputs": [
        {
          "output_type": "execute_result",
          "data": {
            "text/plain": [
              "<matplotlib.axes._subplots.AxesSubplot at 0x7f2ca0d15450>"
            ]
          },
          "metadata": {},
          "execution_count": 36
        },
        {
          "output_type": "display_data",
          "data": {
            "image/png": "[encoded data removed]",
            "text/plain": [
              "<Figure size 432x288 with 1 Axes>"
            ]
          },
          "metadata": {
            "needs_background": "light"
          }
        }
      ]
    },
    {
      "cell_type": "code",
      "metadata": {
        "colab": {
          "base_uri": "https://localhost:8080/",
          "height": 282
        },
        "id": "verzqSOHpWxF",
        "outputId": "0e06420a-6105-403f-acb8-e6883b89cc35"
      },
      "source": [
        "intensitytest.hist()"
      ],
      "execution_count": 37,
      "outputs": [
        {
          "output_type": "execute_result",
          "data": {
            "text/plain": [
              "<matplotlib.axes._subplots.AxesSubplot at 0x7f2ca0c1cad0>"
            ]
          },
          "metadata": {},
          "execution_count": 37
        },
        {
          "output_type": "display_data",
          "data": {
            "image/png": "[encoded data removed]",
            "text/plain": [
              "<Figure size 432x288 with 1 Axes>"
            ]
          },
          "metadata": {
            "needs_background": "light"
          }
        }
      ]
    },
    {
      "cell_type": "code",
      "metadata": {
        "colab": {
          "base_uri": "https://localhost:8080/",
          "height": 282
        },
        "id": "3O72GXZdpaIU",
        "outputId": "6b60798a-0956-4634-c716-8e7636b8ecea"
      },
      "source": [
        "symmetrytrain = train['Symmetry']\n",
        "symmetrytest = test['Symmetry']\n",
        "\n",
        "symmetrytrain.hist()"
      ],
      "execution_count": 38,
      "outputs": [
        {
          "output_type": "execute_result",
          "data": {
            "text/plain": [
              "<matplotlib.axes._subplots.AxesSubplot at 0x7f2ca1413590>"
            ]
          },
          "metadata": {},
          "execution_count": 38
        },
        {
          "output_type": "display_data",
          "data": {
            "image/png": "[encoded data removed]",
            "text/plain": [
              "<Figure size 432x288 with 1 Axes>"
            ]
          },
          "metadata": {
            "needs_background": "light"
          }
        }
      ]
    },
    {
      "cell_type": "code",
      "metadata": {
        "colab": {
          "base_uri": "https://localhost:8080/",
          "height": 282
        },
        "id": "ZQ67OGiapjya",
        "outputId": "77739ac6-d2e6-47f3-c9c7-3268978db71d"
      },
      "source": [
        "symmetrytest.hist()"
      ],
      "execution_count": 39,
      "outputs": [
        {
          "output_type": "execute_result",
          "data": {
            "text/plain": [
              "<matplotlib.axes._subplots.AxesSubplot at 0x7f2ca13a8dd0>"
            ]
          },
          "metadata": {},
          "execution_count": 39
        },
        {
          "output_type": "display_data",
          "data": {
            "image/png": "[encoded data removed]",
            "text/plain": [
              "<Figure size 432x288 with 1 Axes>"
            ]
          },
          "metadata": {
            "needs_background": "light"
          }
        }
      ]
    },
    {
      "cell_type": "code",
      "metadata": {
        "id": "E66R5TrVplM2"
      },
      "source": [
        "train.loc[train['DigitLabel'] != 5.0, 'DigitLabel'] = -1.0\n",
        "train.loc[train['DigitLabel'] == 5.0, 'DigitLabel'] = 1.0\n"
      ],
      "execution_count": 40,
      "outputs": []
    },
    {
      "cell_type": "code",
      "metadata": {
        "colab": {
          "base_uri": "https://localhost:8080/",
          "height": 142
        },
        "id": "cY9F0Sp7qBW6",
        "outputId": "9020153b-cd47-4bf0-8cab-854eca593fa8"
      },
      "source": [
        "trainNew = train.groupby('DigitLabel').count()\n",
        "trainNew.tail()"
      ],
      "execution_count": 41,
      "outputs": [
        {
          "output_type": "execute_result",
          "data": {
            "text/html": [
              "<div>\n",
              "<style scoped>\n",
              "    .dataframe tbody tr th:only-of-type {\n",
              "        vertical-align: middle;\n",
              "    }\n",
              "\n",
              "    .dataframe tbody tr th {\n",
              "        vertical-align: top;\n",
              "    }\n",
              "\n",
              "    .dataframe thead th {\n",
              "        text-align: right;\n",
              "    }\n",
              "</style>\n",
              "<table border=\"1\" class=\"dataframe\">\n",
              "  <thead>\n",
              "    <tr style=\"text-align: right;\">\n",
              "      <th></th>\n",
              "      <th>Intensity</th>\n",
              "      <th>Symmetry</th>\n",
              "    </tr>\n",
              "    <tr>\n",
              "      <th>DigitLabel</th>\n",
              "      <th></th>\n",
              "      <th></th>\n",
              "    </tr>\n",
              "  </thead>\n",
              "  <tbody>\n",
              "    <tr>\n",
              "      <th>-1.0</th>\n",
              "      <td>6735</td>\n",
              "      <td>6735</td>\n",
              "    </tr>\n",
              "    <tr>\n",
              "      <th>1.0</th>\n",
              "      <td>556</td>\n",
              "      <td>556</td>\n",
              "    </tr>\n",
              "  </tbody>\n",
              "</table>\n",
              "</div>"
            ],
            "text/plain": [
              "            Intensity  Symmetry\n",
              "DigitLabel                     \n",
              "-1.0             6735      6735\n",
              " 1.0              556       556"
            ]
          },
          "metadata": {},
          "execution_count": 41
        }
      ]
    },
    {
      "cell_type": "code",
      "metadata": {
        "colab": {
          "base_uri": "https://localhost:8080/"
        },
        "id": "i7uLaltLqNqk",
        "outputId": "9137c036-03e7-42c3-cffb-ecd9ad6e1e50"
      },
      "source": [
        "#b)\n",
        "\n",
        "train['DigitLabel']"
      ],
      "execution_count": 42,
      "outputs": [
        {
          "output_type": "execute_result",
          "data": {
            "text/plain": [
              "0      -1.0\n",
              "1       1.0\n",
              "2      -1.0\n",
              "3      -1.0\n",
              "4      -1.0\n",
              "       ... \n",
              "7286   -1.0\n",
              "7287   -1.0\n",
              "7288   -1.0\n",
              "7289   -1.0\n",
              "7290   -1.0\n",
              "Name: DigitLabel, Length: 7291, dtype: float64"
            ]
          },
          "metadata": {},
          "execution_count": 42
        }
      ]
    },
    {
      "cell_type": "code",
      "metadata": {
        "colab": {
          "base_uri": "https://localhost:8080/"
        },
        "id": "mEnuNFA1qXqf",
        "outputId": "e274c0c2-cb29-427b-8eff-a91b6cd858de"
      },
      "source": [
        "pocket = Perceptron(max_iter=10000, n_iter_no_change = 10000)\n",
        "pocket.fit(train[['Intensity','Symmetry']], train['DigitLabel'])\n",
        "pocket.score(train[['Intensity','Symmetry']], train['DigitLabel'])"
      ],
      "execution_count": 50,
      "outputs": [
        {
          "output_type": "stream",
          "name": "stderr",
          "text": [
            "/usr/local/lib/python3.7/dist-packages/sklearn/linear_model/_stochastic_gradient.py:700: ConvergenceWarning: Maximum number of iteration reached before convergence. Consider increasing max_iter to improve the fit.\n",
            "  ConvergenceWarning,\n"
          ]
        },
        {
          "output_type": "execute_result",
          "data": {
            "text/plain": [
              "0.9237415992319298"
            ]
          },
          "metadata": {},
          "execution_count": 50
        }
      ]
    },
    {
      "cell_type": "code",
      "metadata": {
        "colab": {
          "base_uri": "https://localhost:8080/"
        },
        "id": "-5XLYM_hqg_9",
        "outputId": "afce54e8-a8f8-4a18-c82e-e5e5900f77d0"
      },
      "source": [
        "pocket.n_iter_"
      ],
      "execution_count": 51,
      "outputs": [
        {
          "output_type": "execute_result",
          "data": {
            "text/plain": [
              "10000"
            ]
          },
          "metadata": {},
          "execution_count": 51
        }
      ]
    },
    {
      "cell_type": "code",
      "metadata": {
        "id": "eM89A5ZkqhCm"
      },
      "source": [
        "test.loc[test['DigitLabel'] != 5.0, 'DigitLabel'] = -1.0\n",
        "test.loc[test['DigitLabel'] == 5.0, 'DigitLabel'] = 1.0"
      ],
      "execution_count": 45,
      "outputs": []
    },
    {
      "cell_type": "code",
      "metadata": {
        "colab": {
          "base_uri": "https://localhost:8080/"
        },
        "id": "yFvyewVirA_4",
        "outputId": "e6b20799-dbda-4d0d-e7fd-0bdd5c92fc4b"
      },
      "source": [
        "#c) \n",
        "\n",
        "predict = pocket.predict(test[['Intensity','Symmetry']])\n",
        "metrics.confusion_matrix(test['DigitLabel'], predict)"
      ],
      "execution_count": 53,
      "outputs": [
        {
          "output_type": "execute_result",
          "data": {
            "text/plain": [
              "array([[1847,    0],\n",
              "       [ 160,    0]])"
            ]
          },
          "metadata": {},
          "execution_count": 53
        }
      ]
    },
    {
      "cell_type": "code",
      "metadata": {
        "id": "dbCTm5V-rd2o"
      },
      "source": [
        "# data is lineraly insearable\n",
        "# pocket gets the best separation when it classifies all labels as -1, because the error is smallest when done so. \n",
        "# (556 values have +1, 6735 have -1)"
      ],
      "execution_count": 54,
      "outputs": []
    }
  ]
}