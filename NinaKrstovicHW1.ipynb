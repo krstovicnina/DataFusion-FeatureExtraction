{
  "nbformat": 4,
  "nbformat_minor": 0,
  "metadata": {
    "colab": {
      "name": "NinaKrstovicHW1.ipynb",
      "provenance": [],
      "collapsed_sections": []
    },
    "kernelspec": {
      "name": "python3",
      "display_name": "Python 3"
    },
    "language_info": {
      "name": "python"
    }
  },
  "cells": [
    {
      "cell_type": "code",
      "metadata": {
        "id": "VFCVY4EnRDWg"
      },
      "source": [
        "# 1) exercise 1.5 - learning vs design\n",
        "#\n",
        "#      a) Determining the age at which a particular medical test should be performed - learning\n",
        "#      b) Classifying numbers into primes and non-primes - design\n",
        "#      c) Detecting potential fraud in credit card charges - learning\n",
        "#      d) Determining the time it would take a falling object to hit the ground - design\n",
        "#      e) Determining the optimal cycle for traffic lights in a busy intersection - learning "
      ],
      "execution_count": 2,
      "outputs": []
    },
    {
      "cell_type": "code",
      "metadata": {
        "id": "zY0RUihISZGV"
      },
      "source": [
        "# 2) exercise 1.8\n",
        "\n",
        "# If μ=0.9, what is the probability that a sample of 10 marbles will have ν≤0.1?\n",
        "# [Hints: 1. Use binomial distribution. 2. The answer is a very small number.]\n",
        "\n",
        "# μ=P(RedMarbles) = 0.9\n",
        "\n",
        "# P(RedMarbles ≤ 1 | Marbles = 10) = P(RedMarbles = 0 | Marbles = 10) + P(RedMarbles = 1 | Marbles = 10)\n",
        "# P(RedMarbles = 0 | Marbles = 10) = 0.1^10\n",
        "# P(RedMarbles = 1 | Marbles = 10) = C(1 10) × 0.9 × 0.1^9\n",
        "\n",
        "# ν = P(RedMarbles ≤ 0.1 | Marbles = 10)\n",
        "# v = P(RedMarbles = 0 | Marbles = 10) + P(RedMarbles = 1 | Marbles = 10)\n",
        "# v = 0.1^10 + C(1 10) × 0.9 × 0.1^9\n",
        "# v = 0.1^9 × (0.1+9)\n",
        "# v = 9.1×10^−9"
      ],
      "execution_count": null,
      "outputs": []
    },
    {
      "cell_type": "code",
      "metadata": {
        "id": "Dg7BZ4RaRxwf"
      },
      "source": [
        "# 3) exercise 1.9\n",
        "# If μ=0.9, use the Hoeffding Inequality to bound the probability that a sample of 10 marbles will have ν≤0.1\n",
        "# compare the answer to the previous exercise.\n",
        "\n",
        "\n",
        "# ν≤0.1\n",
        "# μ=0.9\n",
        "# |ν−μ| ≥ 0.8\n",
        "# ϵ = 0.7 \n",
        "\n",
        "# P[|ν−μ| > ϵ] ≤ 2e^(−2ϵ^(2N)) = 2e^(−2 × 0.7^(2 × 10)) ≈ 1.109032 x 10^-4"
      ],
      "execution_count": null,
      "outputs": []
    },
    {
      "cell_type": "code",
      "metadata": {
        "id": "8RM-XzpwXkXa"
      },
      "source": [
        "# 4)  In this problem you’ll generate a syntehetic/artificial data set in order to study the perceptron learning algorithm.  \n",
        "#     The data is two dimensional, where the range of x1 and x2 is between −1 and +1.\n",
        "# \n",
        "#       (a) Define a target function as a straight line passing through the origin and having a random slope. \n",
        "#           One way to generate a random slope is to randomly choose a number between 0 and π and compute its tangent.\n",
        "#       (b) Generate 20 points in the plane limited to the ranges given above (between −1 and 1).\n",
        "#           The points have two coordinates so you need to independently generate 20 random numbers for each of the two coordinates, x1 and x2. \n",
        "#           For example, generate an array of 20 random numbers for x1 and then another for x2 and then bring the two together as two columns of a matrix. \n",
        "#           That would have a usual table form of the data – each row one point, and each column one feature.\n",
        "#       (c) Label the points so that your target function separates them perfectly. Use +1 and −1 for the labels. Make the labels the third column in your data set.\n",
        "#           Now you have a complete data set ready for supervised learning.\n",
        "#       (d) Provide a plot of the target function and the properly labelled points as classified by the target function.\n",
        "#           For example, you may use ‘+’ and ‘o’ to label ‘positive’ and ‘negative’ points as decided by the target function.\n",
        "#           You also may want to use colors for better clarity, for example, negative points would be red and positive points blue.\n",
        "#       (e) Implement the PLA algorithm and run it on your data set. Report the number of iterations it took to produce the final hypothesis.\n",
        "#           Plot the resut – the target function, final hypothesis and data points. Embelish/mark your plot so it’s clear what it shows."
      ],
      "execution_count": null,
      "outputs": []
    },
    {
      "cell_type": "code",
      "metadata": {
        "id": "WD2p160XYTbE"
      },
      "source": [
        "import matplotlib.pyplot as plt\n",
        "import pandas as pd\n",
        "import numpy as np\n",
        "import math\n",
        "import seaborn as sns\n",
        "from sklearn.linear_model import Perceptron\n",
        "from sklearn import metrics\n",
        "from sklearn.metrics import confusion_matrix"
      ],
      "execution_count": 3,
      "outputs": []
    },
    {
      "cell_type": "code",
      "metadata": {
        "colab": {
          "base_uri": "https://localhost:8080/"
        },
        "id": "n6RGgBVcYjqJ",
        "outputId": "62c0e1ee-9fa4-41ed-a82a-dd45c622ecbe"
      },
      "source": [
        "np.random.seed(2018230089)\n",
        "x1 = np.random.uniform(-1,1)\n",
        "x2 = np.random.uniform(-1,1)\n",
        "d = [x1,x2]\n",
        "d"
      ],
      "execution_count": 6,
      "outputs": [
        {
          "output_type": "execute_result",
          "data": {
            "text/plain": [
              "[-0.5858580654492067, -0.3387452236432451]"
            ]
          },
          "metadata": {},
          "execution_count": 6
        }
      ]
    },
    {
      "cell_type": "code",
      "metadata": {
        "colab": {
          "base_uri": "https://localhost:8080/",
          "height": 295
        },
        "id": "7f9wQ_1SYYpe",
        "outputId": "caab57ba-fe97-4b33-95d1-195b8d5efd59"
      },
      "source": [
        "# a) \n",
        "\n",
        "np.random.seed(2018230089)\n",
        "rs = np.random.uniform(0,math.pi)\n",
        "randomslope = math.tan(rs)\n",
        "x = np.linspace(-1,1,20)\n",
        "y = randomslope*x\n",
        "\n",
        "plt.plot(x, y, '-r', label='y = random slope * x')\n",
        "plt.title('Target function')\n",
        "plt.xlabel('x')\n",
        "plt.ylabel('y')\n",
        "plt.legend(loc='upper center')\n",
        "plt.grid()\n",
        "plt.show()"
      ],
      "execution_count": 20,
      "outputs": [
        {
          "output_type": "display_data",
          "data": {
            "image/png": "[encoded data removed]",
            "text/plain": [
              "<Figure size 432x288 with 1 Axes>"
            ]
          },
          "metadata": {
            "needs_background": "light"
          }
        }
      ]
    },
    {
      "cell_type": "code",
      "metadata": {
        "colab": {
          "base_uri": "https://localhost:8080/",
          "height": 282
        },
        "id": "ZClIaIUTaE49",
        "outputId": "bcd847b4-6893-446d-fa23-d264a739bc98"
      },
      "source": [
        "# b)\n",
        "\n",
        "np.random.seed(2018230089)\n",
        "x1 = np.random.uniform(-1,1,(20,1))\n",
        "x2 = np.random.uniform(-1,1,(20,1))\n",
        "data = pd.DataFrame(columns=['x1', 'x2'], data= np.hstack([x1, x2]))\n",
        "plt.scatter(x1, x2)"
      ],
      "execution_count": 23,
      "outputs": [
        {
          "output_type": "execute_result",
          "data": {
            "text/plain": [
              "<matplotlib.collections.PathCollection at 0x7f6cbf8e7590>"
            ]
          },
          "metadata": {},
          "execution_count": 23
        },
        {
          "output_type": "display_data",
          "data": {
            "image/png": "[encoded data removed]",
            "text/plain": [
              "<Figure size 432x288 with 1 Axes>"
            ]
          },
          "metadata": {
            "needs_background": "light"
          }
        }
      ]
    },
    {
      "cell_type": "code",
      "metadata": {
        "colab": {
          "base_uri": "https://localhost:8080/"
        },
        "id": "fDZbjze2alHH",
        "outputId": "a0d581ec-ecb6-4099-af47-16c9c096ce5b"
      },
      "source": [
        "#c)\n",
        "\n",
        "labels = []\n",
        "for index, row in data.iterrows():\n",
        "   print(row['x1'], row['x2'])"
      ],
      "execution_count": 25,
      "outputs": [
        {
          "output_type": "stream",
          "name": "stdout",
          "text": [
            "-0.5858580654492067 0.33357511526701367\n",
            "-0.3387452236432451 0.3108791908025579\n",
            "-0.19693355968425008 0.18779801668399232\n",
            "-0.7497030855344926 -0.9306856423386836\n",
            "-0.8520605180306939 -0.9530809018334283\n",
            "-0.25940482902657425 0.5472275940338469\n",
            "-0.6564716786287552 -0.5359826776703827\n",
            "-0.28144622826625754 -0.8641587866899125\n",
            "-0.533420071813349 0.260567763295515\n",
            "0.032569270340184975 -0.8633316649624554\n",
            "0.2459303561120989 0.10057624576845936\n",
            "0.20860795452211311 -0.23948698584659533\n",
            "0.4043115183386299 0.7016068816724528\n",
            "0.3905413566740694 -0.25506513937276365\n",
            "-0.7790319662861043 0.7821834292177683\n",
            "0.5339562699959579 -0.9369316147001712\n",
            "0.0391980901754585 0.0786191383740702\n",
            "0.7767097899767672 0.149038012608377\n",
            "0.2362021344885219 0.34041789808246325\n",
            "0.11192427557265416 -0.2676988076860678\n"
          ]
        }
      ]
    },
    {
      "cell_type": "code",
      "metadata": {
        "colab": {
          "base_uri": "https://localhost:8080/"
        },
        "id": "Wmfy2wi9bE9y",
        "outputId": "4c80ac75-6046-4a22-d78d-6fbfb4bc61fe"
      },
      "source": [
        "labels = []\n",
        "for index, row in data.iterrows():\n",
        "   if  row['x2'] - ( randomslope * row['x1']) < 0 :\n",
        "     labels.append(-1)\n",
        "   else :\n",
        "     labels.append(1)\n",
        "labels"
      ],
      "execution_count": 26,
      "outputs": [
        {
          "output_type": "execute_result",
          "data": {
            "text/plain": [
              "[1, 1, 1, -1, -1, 1, -1, -1, 1, -1, -1, -1, 1, -1, 1, -1, 1, -1, 1, -1]"
            ]
          },
          "metadata": {},
          "execution_count": 26
        }
      ]
    },
    {
      "cell_type": "code",
      "metadata": {
        "colab": {
          "base_uri": "https://localhost:8080/",
          "height": 669
        },
        "id": "P4cdCQQwbM3Z",
        "outputId": "9147ce41-e634-4891-ebd3-23b1da4725eb"
      },
      "source": [
        "a = [labels]\n",
        "label = np.array(a)\n",
        "data1 = pd.DataFrame(columns=['x1', 'x2', 'labels'], data= np.hstack([data,label.T]))\n",
        "data1"
      ],
      "execution_count": 28,
      "outputs": [
        {
          "output_type": "execute_result",
          "data": {
            "text/html": [
              "<div>\n",
              "<style scoped>\n",
              "    .dataframe tbody tr th:only-of-type {\n",
              "        vertical-align: middle;\n",
              "    }\n",
              "\n",
              "    .dataframe tbody tr th {\n",
              "        vertical-align: top;\n",
              "    }\n",
              "\n",
              "    .dataframe thead th {\n",
              "        text-align: right;\n",
              "    }\n",
              "</style>\n",
              "<table border=\"1\" class=\"dataframe\">\n",
              "  <thead>\n",
              "    <tr style=\"text-align: right;\">\n",
              "      <th></th>\n",
              "      <th>x1</th>\n",
              "      <th>x2</th>\n",
              "      <th>labels</th>\n",
              "    </tr>\n",
              "  </thead>\n",
              "  <tbody>\n",
              "    <tr>\n",
              "      <th>0</th>\n",
              "      <td>-0.585858</td>\n",
              "      <td>0.333575</td>\n",
              "      <td>1.0</td>\n",
              "    </tr>\n",
              "    <tr>\n",
              "      <th>1</th>\n",
              "      <td>-0.338745</td>\n",
              "      <td>0.310879</td>\n",
              "      <td>1.0</td>\n",
              "    </tr>\n",
              "    <tr>\n",
              "      <th>2</th>\n",
              "      <td>-0.196934</td>\n",
              "      <td>0.187798</td>\n",
              "      <td>1.0</td>\n",
              "    </tr>\n",
              "    <tr>\n",
              "      <th>3</th>\n",
              "      <td>-0.749703</td>\n",
              "      <td>-0.930686</td>\n",
              "      <td>-1.0</td>\n",
              "    </tr>\n",
              "    <tr>\n",
              "      <th>4</th>\n",
              "      <td>-0.852061</td>\n",
              "      <td>-0.953081</td>\n",
              "      <td>-1.0</td>\n",
              "    </tr>\n",
              "    <tr>\n",
              "      <th>5</th>\n",
              "      <td>-0.259405</td>\n",
              "      <td>0.547228</td>\n",
              "      <td>1.0</td>\n",
              "    </tr>\n",
              "    <tr>\n",
              "      <th>6</th>\n",
              "      <td>-0.656472</td>\n",
              "      <td>-0.535983</td>\n",
              "      <td>-1.0</td>\n",
              "    </tr>\n",
              "    <tr>\n",
              "      <th>7</th>\n",
              "      <td>-0.281446</td>\n",
              "      <td>-0.864159</td>\n",
              "      <td>-1.0</td>\n",
              "    </tr>\n",
              "    <tr>\n",
              "      <th>8</th>\n",
              "      <td>-0.533420</td>\n",
              "      <td>0.260568</td>\n",
              "      <td>1.0</td>\n",
              "    </tr>\n",
              "    <tr>\n",
              "      <th>9</th>\n",
              "      <td>0.032569</td>\n",
              "      <td>-0.863332</td>\n",
              "      <td>-1.0</td>\n",
              "    </tr>\n",
              "    <tr>\n",
              "      <th>10</th>\n",
              "      <td>0.245930</td>\n",
              "      <td>0.100576</td>\n",
              "      <td>-1.0</td>\n",
              "    </tr>\n",
              "    <tr>\n",
              "      <th>11</th>\n",
              "      <td>0.208608</td>\n",
              "      <td>-0.239487</td>\n",
              "      <td>-1.0</td>\n",
              "    </tr>\n",
              "    <tr>\n",
              "      <th>12</th>\n",
              "      <td>0.404312</td>\n",
              "      <td>0.701607</td>\n",
              "      <td>1.0</td>\n",
              "    </tr>\n",
              "    <tr>\n",
              "      <th>13</th>\n",
              "      <td>0.390541</td>\n",
              "      <td>-0.255065</td>\n",
              "      <td>-1.0</td>\n",
              "    </tr>\n",
              "    <tr>\n",
              "      <th>14</th>\n",
              "      <td>-0.779032</td>\n",
              "      <td>0.782183</td>\n",
              "      <td>1.0</td>\n",
              "    </tr>\n",
              "    <tr>\n",
              "      <th>15</th>\n",
              "      <td>0.533956</td>\n",
              "      <td>-0.936932</td>\n",
              "      <td>-1.0</td>\n",
              "    </tr>\n",
              "    <tr>\n",
              "      <th>16</th>\n",
              "      <td>0.039198</td>\n",
              "      <td>0.078619</td>\n",
              "      <td>1.0</td>\n",
              "    </tr>\n",
              "    <tr>\n",
              "      <th>17</th>\n",
              "      <td>0.776710</td>\n",
              "      <td>0.149038</td>\n",
              "      <td>-1.0</td>\n",
              "    </tr>\n",
              "    <tr>\n",
              "      <th>18</th>\n",
              "      <td>0.236202</td>\n",
              "      <td>0.340418</td>\n",
              "      <td>1.0</td>\n",
              "    </tr>\n",
              "    <tr>\n",
              "      <th>19</th>\n",
              "      <td>0.111924</td>\n",
              "      <td>-0.267699</td>\n",
              "      <td>-1.0</td>\n",
              "    </tr>\n",
              "  </tbody>\n",
              "</table>\n",
              "</div>"
            ],
            "text/plain": [
              "          x1        x2  labels\n",
              "0  -0.585858  0.333575     1.0\n",
              "1  -0.338745  0.310879     1.0\n",
              "2  -0.196934  0.187798     1.0\n",
              "3  -0.749703 -0.930686    -1.0\n",
              "4  -0.852061 -0.953081    -1.0\n",
              "5  -0.259405  0.547228     1.0\n",
              "6  -0.656472 -0.535983    -1.0\n",
              "7  -0.281446 -0.864159    -1.0\n",
              "8  -0.533420  0.260568     1.0\n",
              "9   0.032569 -0.863332    -1.0\n",
              "10  0.245930  0.100576    -1.0\n",
              "11  0.208608 -0.239487    -1.0\n",
              "12  0.404312  0.701607     1.0\n",
              "13  0.390541 -0.255065    -1.0\n",
              "14 -0.779032  0.782183     1.0\n",
              "15  0.533956 -0.936932    -1.0\n",
              "16  0.039198  0.078619     1.0\n",
              "17  0.776710  0.149038    -1.0\n",
              "18  0.236202  0.340418     1.0\n",
              "19  0.111924 -0.267699    -1.0"
            ]
          },
          "metadata": {},
          "execution_count": 28
        }
      ]
    },
    {
      "cell_type": "code",
      "metadata": {
        "colab": {
          "base_uri": "https://localhost:8080/",
          "height": 279
        },
        "id": "ajIIuk-mbgfk",
        "outputId": "6d9a3da9-0c5b-415b-a591-fda50eb16125"
      },
      "source": [
        "# d)\n",
        "\n",
        "colors = {-1:'red', 1:'green'}\n",
        "plt.scatter(x1, x2, c=data1['labels'].map(colors))\n",
        "plt.plot(x, y, '-r', color= 'blue', label='y = random slope * x')\n",
        "plt.legend(loc='upper center')\n",
        "plt.xlabel('x1')\n",
        "plt.ylabel('x2')\n",
        "plt.show()"
      ],
      "execution_count": 42,
      "outputs": [
        {
          "output_type": "display_data",
          "data": {
            "image/png": "[encoded data removed]",
            "text/plain": [
              "<Figure size 432x288 with 1 Axes>"
            ]
          },
          "metadata": {
            "needs_background": "light"
          }
        }
      ]
    },
    {
      "cell_type": "code",
      "metadata": {
        "colab": {
          "base_uri": "https://localhost:8080/"
        },
        "id": "J8S77uGcce15",
        "outputId": "634599fe-a76f-4814-c87e-7143c0303f5c"
      },
      "source": [
        "# e)\n",
        "\n",
        "PLA = Perceptron(tol=1e-3, random_state=0)\n",
        "PLA.fit(data, data1['labels'])\n",
        "PLA.score(data, data1['labels'])"
      ],
      "execution_count": 35,
      "outputs": [
        {
          "output_type": "execute_result",
          "data": {
            "text/plain": [
              "1.0"
            ]
          },
          "metadata": {},
          "execution_count": 35
        }
      ]
    },
    {
      "cell_type": "code",
      "metadata": {
        "colab": {
          "base_uri": "https://localhost:8080/"
        },
        "id": "A1TJF0DQc9-0",
        "outputId": "e76fbb4e-8e35-439c-e02e-0b48411c5ef9"
      },
      "source": [
        "print('The number of iterations it took to produce the final hypothesis is:')\n",
        "PLA.n_iter_"
      ],
      "execution_count": 36,
      "outputs": [
        {
          "output_type": "stream",
          "name": "stdout",
          "text": [
            "The number of iterations it took to produce the final hypothesis is:\n"
          ]
        },
        {
          "output_type": "execute_result",
          "data": {
            "text/plain": [
              "9"
            ]
          },
          "metadata": {},
          "execution_count": 36
        }
      ]
    },
    {
      "cell_type": "code",
      "metadata": {
        "colab": {
          "base_uri": "https://localhost:8080/"
        },
        "id": "xeUkkna8c1I2",
        "outputId": "4a2caf20-db93-4d13-bdd5-0727c3951fa2"
      },
      "source": [
        "PLA.coef_"
      ],
      "execution_count": 38,
      "outputs": [
        {
          "output_type": "execute_result",
          "data": {
            "text/plain": [
              "array([[-0.83664942,  1.3350295 ]])"
            ]
          },
          "metadata": {},
          "execution_count": 38
        }
      ]
    },
    {
      "cell_type": "code",
      "metadata": {
        "colab": {
          "base_uri": "https://localhost:8080/"
        },
        "id": "mqMbg9jcdKgo",
        "outputId": "501d5c00-8a59-4056-b661-c3ebaf6c92da"
      },
      "source": [
        "PLA.intercept_"
      ],
      "execution_count": 37,
      "outputs": [
        {
          "output_type": "execute_result",
          "data": {
            "text/plain": [
              "array([0.])"
            ]
          },
          "metadata": {},
          "execution_count": 37
        }
      ]
    },
    {
      "cell_type": "code",
      "metadata": {
        "colab": {
          "base_uri": "https://localhost:8080/",
          "height": 279
        },
        "id": "bf5EanjLdTbv",
        "outputId": "68c16ffc-434f-427e-b6bd-a41ea06723f7"
      },
      "source": [
        "x = np.linspace(-1,1,20)\n",
        "h = 1.3350295*x\n",
        "plt.plot(x, h, '-b', label ='final hypothesis') \n",
        "\n",
        "colors = {-1:'red', 1:'green'}  \n",
        "plt.scatter(x1, x2, c=data1['labels'].map(colors))\n",
        "plt.plot(x, y, '-y', label='target function') \n",
        "plt.legend(loc='upper center')\n",
        "plt.xlabel('x1')\n",
        "plt.ylabel('x2')\n",
        "plt.show()"
      ],
      "execution_count": 43,
      "outputs": [
        {
          "output_type": "display_data",
          "data": {
            "image/png": "[encoded data removed]",
            "text/plain": [
              "<Figure size 432x288 with 1 Axes>"
            ]
          },
          "metadata": {
            "needs_background": "light"
          }
        }
      ]
    }
  ]
}