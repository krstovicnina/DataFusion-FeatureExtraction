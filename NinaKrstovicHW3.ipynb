{
  "nbformat": 4,
  "nbformat_minor": 0,
  "metadata": {
    "colab": {
      "name": "NinaKrstovicHW3.ipynb",
      "provenance": [],
      "collapsed_sections": []
    },
    "kernelspec": {
      "name": "python3",
      "display_name": "Python 3"
    },
    "language_info": {
      "name": "python"
    }
  },
  "cells": [
    {
      "cell_type": "code",
      "metadata": {
        "id": "uQvlKzKxvBG-"
      },
      "source": [
        "import matplotlib.pyplot as plt\n",
        "import pandas as pd\n",
        "import numpy as np\n",
        "import math\n",
        "import seaborn as sns\n",
        "from sklearn.linear_model import Perceptron\n",
        "from sklearn.linear_model import LogisticRegression\n",
        "from sklearn import metrics\n",
        "from sklearn.metrics import confusion_matrix\n",
        "from sklearn.metrics import roc_curve\n",
        "from sklearn.metrics import roc_auc_score"
      ],
      "execution_count": 11,
      "outputs": []
    },
    {
      "cell_type": "code",
      "metadata": {
        "colab": {
          "base_uri": "https://localhost:8080/"
        },
        "id": "iYtb-HmgsmBy",
        "outputId": "463ef3e5-57d9-4f2f-f73e-7b725965a69f"
      },
      "source": [
        "#1)\n",
        "#   a)\n",
        "#     Suppose that the growth function of a simple model ismH(N) =N+ 1.\n",
        "#     What is the VCdimension,dV C, equal to? Why?\n",
        "\n",
        "#     VC dimension for a mH(N) = N + 1 is 1 because the break point k=2.\n",
        "#     dvc = k-1 \n",
        "#   b)\n",
        "#     The VC generalization bound (expression 2.12, page 53, of the LFD book) asserts that for any δ > 0, Eout(g) ≤ Ein(g) + r8Nln4mH(2N)δwith probability 1 − δ. \n",
        "#     Use the above expression to estimate the probability that Eout will be within e\u000f = 0.1 of Ein given that the training set is of size N = 100.\n",
        "\n",
        "N = 100\n",
        "epsilon = 0.1\n",
        "growth = 2*N + 1\n",
        "delta = 4*growth / np.exp(N * epsilon**2 /8)\n",
        "delta"
      ],
      "execution_count": 8,
      "outputs": [
        {
          "output_type": "execute_result",
          "data": {
            "text/plain": [
              "709.5275096780147"
            ]
          },
          "metadata": {},
          "execution_count": 8
        }
      ]
    },
    {
      "cell_type": "code",
      "metadata": {
        "colab": {
          "base_uri": "https://localhost:8080/"
        },
        "id": "picEyGifuKXW",
        "outputId": "d5540a27-fd0e-44bd-cd40-96df7fa8f324"
      },
      "source": [
        "#   c) \n",
        "#     Repeat the above calculation when N = 10^4\n",
        "#     What is the value of 1 − δ?\n",
        "#     Hint: (1) Look at the Exercise 2.5 on page 56 of the LFD book. \n",
        "#           (2) Note that the whole square root term above is equal to \u000fe = 0.1.\n",
        "#           (3) Also, note that the resulting probability in (b) will not be useful as it will be out of range.\n",
        "#           The value obtained in (c) is in the proper range.\n",
        "\n",
        "\n",
        "N = 10000\n",
        "e = 0.1\n",
        "mh = 2*N + 1\n",
        "δ = 4*mh / np.exp(N * e**2 /8)\n",
        "δ, 1-δ"
      ],
      "execution_count": 10,
      "outputs": [
        {
          "output_type": "execute_result",
          "data": {
            "text/plain": [
              "(0.2981471603789815, 0.7018528396210185)"
            ]
          },
          "metadata": {},
          "execution_count": 10
        }
      ]
    },
    {
      "cell_type": "code",
      "metadata": {
        "id": "zrGLvrAXwKW2"
      },
      "source": [
        "# 1 − δ is 0.7018528396210185"
      ],
      "execution_count": null,
      "outputs": []
    },
    {
      "cell_type": "code",
      "metadata": {
        "id": "A5dMn7GfwU06"
      },
      "source": [
        "# 2)\n",
        "#   In HW2, using the MNIST files, you have created a new training set for a binary classification.\n",
        "#   That was done by changing all labels for all digits different from 5 into label -1, and then changing the labels for digit 5 into label 1.\n",
        "#   This time, select only rows with labels ‘5’ and ‘1’ from the training and test files (features train.txt and features test.txt ). \n",
        "#   Then replace the labels for digit five with ‘-1’. and the labels for digit one with ‘1’.\n",
        "\n",
        "#     (a) Train a pocket PLA on the training data set and report the final hypothesis (final model in terms of the perceptron weights w).\n",
        "#     (b) Show the scatter plot of the training data points (blue for label ‘five’, red for ‘non-fives’ and draw the classification boundary (the best PLA hypothesis, that is, the line corresponding to the fitted model).\n",
        "#     (c) Use the trained PLA to predict the labels in the test set and provide the confusion matrix.\n",
        "#     (d) Use logistic regression of your favorite programming environment (Python, R, etc.) to fit the training data set.\n",
        "#         NOTE: you may have to change the values of labels (1, -1) to comply with the specific values/format required by the function which implements logistic regression.\n",
        "#     (e) Print the values of the parameters of the fitted model; Show the scatter plot of the training data points (blue for label ‘five’, red for ‘non-fives’) along with the classification boundary (the line corresponding to the fitted model).\n",
        "#     (f) Use the predict method of the logistic regression to classify the points in the test set. Produce the confusion matrix to summarize the result of classification.\n",
        "#     (g) Plot the ROC curve and display the numeric value of the area under the curve (AUROC).\n"
      ],
      "execution_count": null,
      "outputs": []
    },
    {
      "cell_type": "code",
      "metadata": {
        "id": "Bi9nlfWlwr2K"
      },
      "source": [
        "test = pd.read_csv(\"features.test.csv\")\n",
        "train = pd.read_csv(\"features.train.csv\")"
      ],
      "execution_count": 13,
      "outputs": []
    },
    {
      "cell_type": "code",
      "metadata": {
        "id": "Wu7uR7kRwx0G"
      },
      "source": [
        "train.loc[train['DigitLabel'] == 1.0, 'DigitLabel'] = 1.0\n",
        "train.loc[train['DigitLabel'] == 5.0, 'DigitLabel'] = -1.0\n",
        "\n",
        "test.loc[test['DigitLabel'] == 1.0, 'DigitLabel'] = 1.0\n",
        "test.loc[test['DigitLabel'] == 5.0, 'DigitLabel'] = -1.0"
      ],
      "execution_count": 15,
      "outputs": []
    },
    {
      "cell_type": "code",
      "metadata": {
        "colab": {
          "base_uri": "https://localhost:8080/"
        },
        "id": "MnakizxWw65O",
        "outputId": "8e8d0367-0442-496b-aae1-040afc3f0c85"
      },
      "source": [
        "trainF = train.drop(train[train['DigitLabel'] != 1.0].index & train[train['DigitLabel']  != -1].index)\n",
        "testF = test.drop(test[test['DigitLabel'] != 1.0].index & test[test['DigitLabel']  != -1].index)\n",
        "\n",
        "testF.info()"
      ],
      "execution_count": 17,
      "outputs": [
        {
          "output_type": "stream",
          "name": "stdout",
          "text": [
            "<class 'pandas.core.frame.DataFrame'>\n",
            "Int64Index: 424 entries, 16 to 2006\n",
            "Data columns (total 3 columns):\n",
            " #   Column      Non-Null Count  Dtype  \n",
            "---  ------      --------------  -----  \n",
            " 0   DigitLabel  424 non-null    float64\n",
            " 1   Intensity   424 non-null    float64\n",
            " 2   Symmetry    424 non-null    float64\n",
            "dtypes: float64(3)\n",
            "memory usage: 13.2 KB\n"
          ]
        }
      ]
    },
    {
      "cell_type": "code",
      "metadata": {
        "colab": {
          "base_uri": "https://localhost:8080/"
        },
        "id": "_NvvHWaIxgGe",
        "outputId": "b45b47a1-e46c-41fa-c041-8992535b0f9f"
      },
      "source": [
        "# a)\n",
        "pocket = Perceptron(max_iter=10000, n_iter_no_change = 10000)\n",
        "pocket.fit(trainF[['Intensity','Symmetry']], trainF['DigitLabel'])\n",
        "pocket.score(trainF[['Intensity','Symmetry']], trainF['DigitLabel'])"
      ],
      "execution_count": 18,
      "outputs": [
        {
          "output_type": "stream",
          "name": "stderr",
          "text": [
            "/usr/local/lib/python3.7/dist-packages/sklearn/linear_model/_stochastic_gradient.py:700: ConvergenceWarning: Maximum number of iteration reached before convergence. Consider increasing max_iter to improve the fit.\n",
            "  ConvergenceWarning,\n"
          ]
        },
        {
          "output_type": "execute_result",
          "data": {
            "text/plain": [
              "0.9929532351057014"
            ]
          },
          "metadata": {},
          "execution_count": 18
        }
      ]
    },
    {
      "cell_type": "code",
      "metadata": {
        "colab": {
          "base_uri": "https://localhost:8080/"
        },
        "id": "3_bFClMmxv_a",
        "outputId": "70cbccfb-ec4e-4488-a7d2-4768ad50d886"
      },
      "source": [
        "pocket.n_iter_, pocket.coef_ # w1=21.6, w2= 8.21"
      ],
      "execution_count": 20,
      "outputs": [
        {
          "output_type": "execute_result",
          "data": {
            "text/plain": [
              "(10000, array([[21.6 ,  8.21]]))"
            ]
          },
          "metadata": {},
          "execution_count": 20
        }
      ]
    },
    {
      "cell_type": "code",
      "metadata": {
        "colab": {
          "base_uri": "https://localhost:8080/"
        },
        "id": "pr1eg9D_x6J4",
        "outputId": "6d8d7eb1-0cea-4764-deac-f08a71629526"
      },
      "source": [
        "pocket.intercept_ #w0"
      ],
      "execution_count": 21,
      "outputs": [
        {
          "output_type": "execute_result",
          "data": {
            "text/plain": [
              "array([19.])"
            ]
          },
          "metadata": {},
          "execution_count": 21
        }
      ]
    },
    {
      "cell_type": "code",
      "metadata": {
        "colab": {
          "base_uri": "https://localhost:8080/",
          "height": 279
        },
        "id": "zfwS8ILKyLp3",
        "outputId": "480477c8-c900-44d9-9302-af9a9a4d1178"
      },
      "source": [
        "# b) \n",
        " \n",
        "x = np.linspace(0,0.6,100)\n",
        "m = (-(19 / 8.21) / (19 / 21.6))\n",
        "b = -19 / 8.21\n",
        "h = m*x + b\n",
        "plt.plot(x, h, '-b', label='final hypothesis') \n",
        "colors = {-1:'green', 1:'red'}  \n",
        "plt.scatter(trainF['Intensity'], trainF['Symmetry'], c=trainF['DigitLabel'].map(colors))\n",
        "plt.legend(loc='upper center')\n",
        "plt.xlabel('Intensity')\n",
        "plt.ylabel('Symmetry')\n",
        "plt.show()"
      ],
      "execution_count": 22,
      "outputs": [
        {
          "output_type": "display_data",
          "data": {
            "image/png": "[encoded data removed]",
            "text/plain": [
              "<Figure size 432x288 with 1 Axes>"
            ]
          },
          "metadata": {
            "needs_background": "light"
          }
        }
      ]
    },
    {
      "cell_type": "code",
      "metadata": {
        "colab": {
          "base_uri": "https://localhost:8080/"
        },
        "id": "ChJcClWTy5-k",
        "outputId": "b2a146ed-e292-4136-f5ba-8627e52d8de3"
      },
      "source": [
        "#c\n",
        "predict = pocket.predict(testF[['Intensity','Symmetry']])\n",
        "metrics.confusion_matrix(testF['DigitLabel'], predict)"
      ],
      "execution_count": 24,
      "outputs": [
        {
          "output_type": "execute_result",
          "data": {
            "text/plain": [
              "array([[160,   0],\n",
              "       [  6, 258]])"
            ]
          },
          "metadata": {},
          "execution_count": 24
        }
      ]
    },
    {
      "cell_type": "code",
      "metadata": {
        "colab": {
          "base_uri": "https://localhost:8080/"
        },
        "id": "3h2dYY-_zLiz",
        "outputId": "0363d4af-63fe-4dc2-dbbf-4b77bc709c7e"
      },
      "source": [
        "#d\n",
        "logisticregression = LogisticRegression(max_iter=10000)\n",
        "logisticregression.fit(trainF[['Intensity','Symmetry']], trainF['DigitLabel'])\n",
        "logisticregression.score(trainF[['Intensity','Symmetry']], trainF['DigitLabel'])"
      ],
      "execution_count": 25,
      "outputs": [
        {
          "output_type": "execute_result",
          "data": {
            "text/plain": [
              "0.9955156950672646"
            ]
          },
          "metadata": {},
          "execution_count": 25
        }
      ]
    },
    {
      "cell_type": "code",
      "metadata": {
        "colab": {
          "base_uri": "https://localhost:8080/"
        },
        "id": "kL51cgdNzgJz",
        "outputId": "77c83b32-7ba6-4be1-cb2e-d0e70701e353"
      },
      "source": [
        "# e)\n",
        "logisticregression.coef_ , logisticregression.intercept_ #w1,w2,w0"
      ],
      "execution_count": 26,
      "outputs": [
        {
          "output_type": "execute_result",
          "data": {
            "text/plain": [
              "(array([[0.26858569, 3.63141818]]), array([9.21945299]))"
            ]
          },
          "metadata": {},
          "execution_count": 26
        }
      ]
    },
    {
      "cell_type": "code",
      "metadata": {
        "colab": {
          "base_uri": "https://localhost:8080/",
          "height": 279
        },
        "id": "fqJbCItjz47b",
        "outputId": "cf5457cb-d8e0-40b1-a1f4-dcbeeb58dd73"
      },
      "source": [
        "x = np.linspace(0,0.6,100)\n",
        "m = (-(9.21945299 / 3.63141818) / (9.21945299 / 0.26858569))\n",
        "b = -(9.21945299 / 3.63141818)\n",
        "h = m*x + b\n",
        "plt.plot(x, h, '-b', label='final hypothesis') \n",
        "\n",
        "colors = {-1:'green', 1:'red'}  \n",
        "plt.scatter(trainF['Intensity'], trainF['Symmetry'], c=trainF['DigitLabel'].map(colors))\n",
        "plt.legend(loc='upper center')\n",
        "plt.xlabel('Intensity')\n",
        "plt.ylabel('Symmetry')\n",
        "plt.show()"
      ],
      "execution_count": 27,
      "outputs": [
        {
          "output_type": "display_data",
          "data": {
            "image/png": "[encoded data removed]",
            "text/plain": [
              "<Figure size 432x288 with 1 Axes>"
            ]
          },
          "metadata": {
            "needs_background": "light"
          }
        }
      ]
    },
    {
      "cell_type": "code",
      "metadata": {
        "colab": {
          "base_uri": "https://localhost:8080/"
        },
        "id": "acZj4Xda0PME",
        "outputId": "948b0fd4-2f69-48a2-d1ba-fc8c8c5f1bd8"
      },
      "source": [
        "#f)\n",
        "logisticregressionpredict = logisticregression.predict(testF[['Intensity','Symmetry']])\n",
        "metrics.confusion_matrix(testF['DigitLabel'], logisticregressionpredict)"
      ],
      "execution_count": 28,
      "outputs": [
        {
          "output_type": "execute_result",
          "data": {
            "text/plain": [
              "array([[160,   0],\n",
              "       [  8, 256]])"
            ]
          },
          "metadata": {},
          "execution_count": 28
        }
      ]
    },
    {
      "cell_type": "code",
      "metadata": {
        "colab": {
          "base_uri": "https://localhost:8080/",
          "height": 282
        },
        "id": "bAfhYQUc0iwI",
        "outputId": "391caf1a-df5c-41dd-d2c5-55a8d6bdb480"
      },
      "source": [
        "#g)\n",
        "logisticregressionpredict1 = logisticregression.predict_proba(testF[['Intensity','Symmetry']])\n",
        "logisticregressionpredict1 = logisticregressionpredict1[:, 1]\n",
        "logisticregression_auc = roc_auc_score(testF['DigitLabel'], logisticregressionpredict1)\n",
        "logisticregression_fpr, logisticregression_tpr, _ = roc_curve(testF['DigitLabel'], logisticregressionpredict1)\n",
        "plt.plot(logisticregression_fpr, logisticregression_tpr)"
      ],
      "execution_count": 29,
      "outputs": [
        {
          "output_type": "execute_result",
          "data": {
            "text/plain": [
              "[<matplotlib.lines.Line2D at 0x7fd67ec216d0>]"
            ]
          },
          "metadata": {},
          "execution_count": 29
        },
        {
          "output_type": "display_data",
          "data": {
            "image/png": "[encoded data removed]",
            "text/plain": [
              "<Figure size 432x288 with 1 Axes>"
            ]
          },
          "metadata": {
            "needs_background": "light"
          }
        }
      ]
    },
    {
      "cell_type": "code",
      "metadata": {
        "colab": {
          "base_uri": "https://localhost:8080/"
        },
        "id": "oXJq5sX_1MNZ",
        "outputId": "38922391-49a1-4b8c-bcaf-8d659f266573"
      },
      "source": [
        "logisticregression_auc"
      ],
      "execution_count": 33,
      "outputs": [
        {
          "output_type": "execute_result",
          "data": {
            "text/plain": [
              "0.9962594696969698"
            ]
          },
          "metadata": {},
          "execution_count": 33
        }
      ]
    }
  ]
}